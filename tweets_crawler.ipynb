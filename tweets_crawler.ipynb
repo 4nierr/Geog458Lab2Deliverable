{
  "cells": [
    {
      "cell_type": "code",
      "execution_count": null,
      "id": "comic-detroit",
      "metadata": {
        "id": "comic-detroit"
      },
      "outputs": [],
      "source": [
        "# created on Dec 24, 2020\n",
        "# modified on April 14, 2021\n",
        "# modified on Jan 2, 2021\n",
        "# @author:          Bo Zhao\n",
        "# @email:           zhaobo@uw.edu\n",
        "# @website:         https://hgis.uw.edu\n",
        "# @organization:    Department of Geography, University of Washington, Seattle\n",
        "# @description:     Search historical tweets using locational information"
      ]
    },
    {
      "cell_type": "code",
      "execution_count": null,
      "id": "2hob_1iXn14t",
      "metadata": {
        "id": "2hob_1iXn14t"
      },
      "outputs": [],
      "source": [
        "import tweepy\n",
        "import pandas as pd"
      ]
    },
    {
      "cell_type": "code",
      "execution_count": null,
      "id": "WHeExfSloBhI",
      "metadata": {
        "id": "WHeExfSloBhI"
      },
      "outputs": [],
      "source": [
        "# the file path where to store the output csv on google drive\n",
        "output_file = '/gdrive/My Drive/Colab Notebooks/twsearch-result.csv'\n",
        "\n",
        "# Apply for your own Twitter API keys at https://developer.twitter.com/en/apply-for-access\n",
        "consumer_key = \"\"\n",
        "consumer_secret = \"\"\n",
        "access_token = \"\"\n",
        "access_token_secret = \"\"\n",
        "\n",
        "#keys removed for security\n",
        "\n",
        "auth = tweepy.OAuthHandler(consumer_key, consumer_secret)\n",
        "auth.set_access_token(access_token, access_token_secret)\n",
        "api = tweepy.API(auth, wait_on_rate_limit=True)"
      ]
    },
    {
      "cell_type": "code",
      "execution_count": 21,
      "id": "passing-pulse",
      "metadata": {
        "colab": {
          "base_uri": "https://localhost:8080/"
        },
        "id": "passing-pulse",
        "outputId": "5df6e76b-a0e5-497c-9175-bf6e4703fd48"
      },
      "outputs": [
        {
          "name": "stdout",
          "output_type": "stream",
          "text": [
            "{'username': 'PianoGraceANN', 'userid': 18139841, 'profile_location': 'seattle', 'created_at': '2023-01-22 03:59:27', 'text': '@cturnbull1968 @CollinRugg Like the gallery owner who sprayed a homeless woman with a hose for a substantial amount… https://t.co/2ehoulDGCf', 'retweet_count': 0, 'source': 'Twitter for Android', 'coordinates': None}\n",
            "{'username': 'Lynn Landra | Vampire Cyborg', 'userid': 834604668177117184, 'profile_location': 'Seattle, WA', 'created_at': '2023-01-22 03:47:26', 'text': '@layne_madeline @StephTaitWrites Very much \"I don\\'t like seeing the homeless people\" energy', 'retweet_count': 0, 'source': 'Twitter for Android', 'coordinates': None}\n",
            "{'username': 'Shawn Hereth', 'userid': 1590608720027082753, 'profile_location': 'Seattle, WA', 'created_at': '2023-01-22 03:38:20', 'text': '@monyro5 @Pouldeau61 @paramaniac9 @scottstocker4 @TonyBaduy @LummHandy @JonathanHannah @SkepticalMutant… https://t.co/7NUSoqC9T5', 'retweet_count': 0, 'source': 'Twitter for Android', 'coordinates': None}\n",
            "{'username': 'Purity of Essence', 'userid': 33392527, 'profile_location': 'Seattle', 'created_at': '2023-01-22 03:18:20', 'text': '@MarketUrbanism I mean, in Seattle those would become shelter for homeless people.', 'retweet_count': 0, 'source': 'Twitter for iPhone', 'coordinates': None}\n",
            "{'username': 'Rev. Jesus \"H\" Christ', 'userid': 1088165183220965376, 'profile_location': 'Seattle, WA', 'created_at': '2023-01-22 02:48:03', 'text': '@JenJenBaMo @Incindery1 If gangs of homeless were wandering around beating citizens to death like this, there would… https://t.co/3k0ERxwOY1', 'retweet_count': 0, 'source': 'Twitter for iPhone', 'coordinates': None}\n",
            "{'username': 'Chosen One 🇺🇦+🇺🇸', 'userid': 17127559, 'profile_location': 'Redmond, WA', 'created_at': '2023-01-22 02:43:02', 'text': '@charliekirk11 All of Atlanta is burning, huh? There must be millions homeless!', 'retweet_count': 0, 'source': 'Twitter for iPhone', 'coordinates': None}\n",
            "{'username': 'Felix Catus', 'userid': 1528414247465521158, 'profile_location': 'Seattle, WA', 'created_at': '2023-01-22 01:43:44', 'text': \"@ericacbarnett @MayorofSeattle being a homeless teen in this city was hard enough 10 years ago and it's only gotten worse\", 'retweet_count': 0, 'source': 'Twitter for iPad', 'coordinates': None}\n",
            "{'username': 'Brett Hamil', 'userid': 27712354, 'profile_location': 'Seattle', 'created_at': '2023-01-22 00:46:33', 'text': \"@mv @weheartfounder um yeah he cheered on people vandalizing a pregnant homeless woman's mobile home on his show, h… https://t.co/io05bnptQ5\", 'retweet_count': 0, 'source': 'Twitter Web App', 'coordinates': None}\n",
            "{'username': 'rockrawintoy', 'userid': 1060660075407147008, 'profile_location': 'Seattle, WA', 'created_at': '2023-01-22 00:25:02', 'text': '@chigrl Downtown Seattle is terrible. It’s so sketchy. At least I haven’t had to defend myself from a homeless person yet this month', 'retweet_count': 0, 'source': 'Twitter for iPhone', 'coordinates': None}\n",
            "{'username': 'French Grip Ted', 'userid': 935201252, 'profile_location': 'Seattle, WA', 'created_at': '2023-01-22 00:05:02', 'text': \"Ask for that 50 billion you gave Ukraine back. \\n\\nThere's a mf homeless outside my apt in the snow tripping on fent… https://t.co/g5UpOK4iie\", 'retweet_count': 0, 'source': 'Twitter for Android', 'coordinates': None}\n",
            "{'username': 'asdf', 'userid': 40094782, 'profile_location': 'Seattle, WA', 'created_at': '2023-01-22 00:04:35', 'text': '@fettwalp $100,000,000,000+ for nazis in Ukraine, nothing for the homeless.', 'retweet_count': 1, 'source': 'Twitter Web App', 'coordinates': None}\n",
            "{'username': 'CD Quality Graphics', 'userid': 14345985, 'profile_location': 'Seattle, Washington', 'created_at': '2023-01-21 23:59:16', 'text': '@SuperGameBro @Melissa__x0xo I have had some very long conversations on that observed perspective. I used to manage… https://t.co/EcoSCkSZba', 'retweet_count': 0, 'source': 'Twitter for iPhone', 'coordinates': None}\n",
            "{'username': 'Kristen Bogren', 'userid': 34191179, 'profile_location': 'Seattle, WA', 'created_at': '2023-01-21 22:52:08', 'text': '@ericacbarnett @MayorofSeattle Just curious on what the solution could be otherwise? My friend gave up her spot at… https://t.co/pdf1sxeHyz', 'retweet_count': 0, 'source': 'Twitter for iPhone', 'coordinates': None}\n",
            "{'username': 'The Nerdskull, Woke Moralist', 'userid': 1288553498695483394, 'profile_location': 'Seattle, WA', 'created_at': '2023-01-21 22:21:32', 'text': '\"You don\\'t need an iPhone in order to live\" is a take that only a person who has never had to have a job or live on… https://t.co/TCrvmMbzwT', 'retweet_count': 55, 'source': 'Twitter Web App', 'coordinates': None}\n",
            "{'username': 'KOMO News', 'userid': 16086928, 'profile_location': 'Seattle, WA', 'created_at': '2023-01-21 22:20:00', 'text': 'He’ll wrap the handles in duct tape, bang on the fence and swing them at people.\"\\n\\nhttps://t.co/OYKTPLV1Yy', 'retweet_count': 1, 'source': 'TweetDeck', 'coordinates': None}\n",
            "{'username': 'Jai vasanth', 'userid': 2972941956, 'profile_location': 'Seattle, WA', 'created_at': '2023-01-21 21:47:03', 'text': '@ItsTheHousing All of Finland had 20k homeless people. Seattle alone now has 11k homeless people.\\n\\nThe problem is scale :)', 'retweet_count': 0, 'source': 'Twitter for iPhone', 'coordinates': None}\n",
            "{'username': 'Axel Gear // Mr. Jack', 'userid': 712598735176335360, 'profile_location': 'Seattle, WA', 'created_at': '2023-01-21 21:46:33', 'text': '@AttyErinS @GoodPoliticGuy I do think you raise a good point about needing equipment for the block cheese. While ch… https://t.co/25XCGuo2Nh', 'retweet_count': 0, 'source': 'Twitter Web App', 'coordinates': None}\n",
            "{'username': 'Jane M', 'userid': 1441306146619363332, 'profile_location': 'Edmonds, WA', 'created_at': '2023-01-21 21:01:51', 'text': '@GordonOfSeattle If downtown streets are going to be places for families and businesses, you need to get rid of the homeless first', 'retweet_count': 0, 'source': 'Twitter for iPhone', 'coordinates': None}\n",
            "{'username': 'Seattle Reddit', 'userid': 754067010691014658, 'profile_location': 'Seattle, WA', 'created_at': '2023-01-21 20:17:36', 'text': 'Crime-ridden Seattle loses Nike store and multiplex cinema - as number of homeless deaths soar… https://t.co/36amqlMEH5', 'retweet_count': 0, 'source': 'dlvr.it', 'coordinates': None}\n",
            "{'username': 'Deborah', 'userid': 27379820, 'profile_location': 'Seattle, WA', 'created_at': '2023-01-21 19:57:58', 'text': '@kirklandgov Now maybe you can use it as affordable housing or make it a facility to help the homeless as a retrain… https://t.co/si6J0MD1Jc', 'retweet_count': 0, 'source': 'Twitter for iPhone', 'coordinates': None}\n",
            "{'username': 'Jesse Robbins @kravmagacdist', 'userid': 1435113570056896516, 'profile_location': 'Seattle', 'created_at': '2023-01-21 19:56:23', 'text': '@CMTammyMorales @CMTMosqueda @CMSaraNelson I opened a Krav Maga school in your district (Chinatown/ID). Just got th… https://t.co/3aJYeJpWhI', 'retweet_count': 0, 'source': 'Twitter for iPhone', 'coordinates': None}\n",
            "{'username': 'Rick Claus - 2023? LETS GO!', 'userid': 3352471, 'profile_location': 'Redmond, WA', 'created_at': '2023-01-21 19:43:25', 'text': \"How’s your day going? \\n\\nI'm helping out my friend @SeattleChefMatt with his mission of feeding homeless folks in Se… https://t.co/q3p8fMgh3U\", 'retweet_count': 2, 'source': 'Twitter for iPhone', 'coordinates': None}\n",
            "{'username': 'Kris Dreemurr of the Pnictogen Wing (at Large)', 'userid': 1512534769388568578, 'profile_location': 'Seattle, WA', 'created_at': '2023-01-21 19:02:12', 'text': '@fchollet the general American attitude towards homeless people is that they ought to be liquidated by the police.… https://t.co/oBD9Wb0KC1', 'retweet_count': 0, 'source': 'Twitter Web App', 'coordinates': None}\n",
            "{'username': 'Anne Fanning', 'userid': 281867095, 'profile_location': 'Seattle', 'created_at': '2023-01-21 18:33:46', 'text': '@Venntive “Homeless” is one letter away from “hopeless.” And yes, this stuff matters.', 'retweet_count': 0, 'source': 'Twitter for iPhone', 'coordinates': None}\n",
            "{'username': 'MarkItZeroDonny', 'userid': 1044015500605284352, 'profile_location': 'Seattle, WA', 'created_at': '2023-01-21 18:27:48', 'text': '@DredgenPlays @Dexerto @airrack Ahahahahah!!! Nope. Zero chance even half of that shitty floor pizza made it to the… https://t.co/aoFKjsYgJU', 'retweet_count': 0, 'source': 'Twitter for Android', 'coordinates': None}\n",
            "{'username': 'MarkItZeroDonny', 'userid': 1044015500605284352, 'profile_location': 'Seattle, WA', 'created_at': '2023-01-21 18:24:34', 'text': '@NathalexSan @Dexerto @airrack Bullshit. There is no way that much \"food\" was consumed and not trashed.\\n\\n\"Hey, home… https://t.co/wf2J0glKUQ', 'retweet_count': 0, 'source': 'Twitter for Android', 'coordinates': None}\n",
            "{'username': 'Jules 🇮🇪💚🤍🧡🇵🇸🕊🇬🇷💙🤍🐐🏳️\\u200d🌈#BLM', 'userid': 924281715933229056, 'profile_location': 'By the sea', 'created_at': '2023-01-21 17:54:20', 'text': 'Has anyone wondered why Palestinians are forced to demolish their own homes by the Israelis, left homeless, with no… https://t.co/pFMNU942M4', 'retweet_count': 18, 'source': 'Twitter for iPhone', 'coordinates': None}\n",
            "{'username': 'fiona stafford', 'userid': 1461544800050577409, 'profile_location': 'Bellevue, WA', 'created_at': '2023-01-21 17:47:01', 'text': 'There’s unbelievable wealth here in Greater Seattle but the sheeple here &amp; the local Microsoft/Amazon/Google Exes a… https://t.co/gix9HeASz0', 'retweet_count': 0, 'source': 'Twitter for iPhone', 'coordinates': None}\n",
            "{'username': 'Jeremy Pitman', 'userid': 17936548, 'profile_location': 'Seattle, WA', 'created_at': '2023-01-21 17:18:16', 'text': 'Nike gets the headlines but for every Nike, one hundred other small businesses have left the city too. A crime and… https://t.co/QNYwb0ov78', 'retweet_count': 0, 'source': 'Twitter Web App', 'coordinates': None}\n",
            "{'username': 'Allen', 'userid': 190778018, 'profile_location': 'Seattle, WA', 'created_at': '2023-01-21 14:47:05', 'text': '@Muehlhans @komonews Ya that rifle gonna help a stealthy hammer attack last I hears the Dems wanted to give hammers… https://t.co/zuNlPIko1r', 'retweet_count': 0, 'source': 'Twitter for Android', 'coordinates': None}\n",
            "the crawling task is finished.\n"
          ]
        }
      ],
      "source": [
        "# Define the search term and the date_since date as variables\n",
        "search_words = \"homeless\"\n",
        "# make sure there is no space between lat, long and the radius.\n",
        "location = \"47.605108,-122.332665,15.8mi\"\n",
        "date_since = \"2022-01-16\"\n",
        "# read the Twitter API document to look for other ways to customize your queries.\n",
        "# refer to https://developer.twitter.com/en/docs/twitter-api/v1/rules-and-filtering/search-operators\n",
        "# for example: you can ignore all the retweets by #wildfires -filter:retweets\n",
        "# Geolocalization: the search operator “near” isn’t available in the API, but there is a more precise way to restrict\n",
        "# your query by a given location using the geocode parameter specified with the template “latitude,longitude,radius”,\n",
        "# for example, “47.6138893,-122.3107869,10mi” (capitol hill at Seattle). When conducting geo searches, the search API will first attempt to find Tweets、\n",
        "# which have lat/long within the queried geocode, and in case of not having success, it will attempt to find Tweets created\n",
        "# by users whose profile location can be reverse geocoded into a lat/long within the queried geocode, meaning that is possible\n",
        "# to receive Tweets which do not include lat/long information.\n",
        "\n",
        "\n",
        "# Collect tweets\n",
        "# tweets = tweepy.Cursor(api.search, q=search_words, lang=\"en\", since=date_since).items(100)\n",
        "tweets = tweepy.Cursor(api.search, q=search_words, geocode=location, lang=\"en\", since=date_since).items(30)\n",
        "\n",
        "# create an array to store the result\n",
        "result = []\n",
        "\n",
        "# Iterate and print tweets\n",
        "for tweet in tweets:\n",
        "    row = {\n",
        "        'username': tweet.author.name,\n",
        "        'userid': tweet.author.id,\n",
        "        'profile_location': tweet.author.location,\n",
        "        'created_at': str(tweet.created_at),\n",
        "        'text': tweet.text,\n",
        "        'retweet_count': tweet.retweet_count,\n",
        "        'source': tweet.source,\n",
        "        'coordinates': tweet.coordinates\n",
        "    }\n",
        "    result.append(row)\n",
        "    print(row)\n",
        "\n",
        "# Store the results as a pandas dataframe\n",
        "df = pd.DataFrame(result)\n",
        "\n",
        "# notify the completion of the crawling in the console.\n",
        "print(\"the crawling task is finished.\")"
      ]
    },
    {
      "cell_type": "code",
      "execution_count": 11,
      "id": "Mo48GEZRLZYG",
      "metadata": {
        "colab": {
          "base_uri": "https://localhost:8080/"
        },
        "id": "Mo48GEZRLZYG",
        "outputId": "c38653de-4af6-40d7-ec10-007c18f05239"
      },
      "outputs": [
        {
          "name": "stdout",
          "output_type": "stream",
          "text": [
            "Mounted at /content/drive\n"
          ]
        }
      ],
      "source": [
        "from google.colab import drive\n",
        "drive.mount('/content/drive')"
      ]
    },
    {
      "cell_type": "code",
      "execution_count": 22,
      "id": "Zm98obJ2onCV",
      "metadata": {
        "colab": {
          "base_uri": "https://localhost:8080/"
        },
        "id": "Zm98obJ2onCV",
        "outputId": "6a109090-56a0-4966-927b-6c6701136c24"
      },
      "outputs": [
        {
          "name": "stdout",
          "output_type": "stream",
          "text": [
            "Drive already mounted at /gdrive; to attempt to forcibly remount, call drive.mount(\"/gdrive\", force_remount=True).\n"
          ]
        }
      ],
      "source": [
        "# Create data on to Google Drive\n",
        "from google.colab import drive\n",
        "# Mount your Drive to the Colab VM.\n",
        "drive.mount('/gdrive')\n",
        "  \n",
        "df.to_csv(output_file, index=False)"
      ]
    },
    {
      "cell_type": "code",
      "execution_count": 23,
      "id": "GMywhiuFoobU",
      "metadata": {
        "colab": {
          "base_uri": "https://localhost:8080/",
          "height": 34
        },
        "id": "GMywhiuFoobU",
        "outputId": "911e0b05-c4ab-4539-c173-7854b2883193"
      },
      "outputs": [
        {
          "data": {
            "application/javascript": "\n    async function download(id, filename, size) {\n      if (!google.colab.kernel.accessAllowed) {\n        return;\n      }\n      const div = document.createElement('div');\n      const label = document.createElement('label');\n      label.textContent = `Downloading \"${filename}\": `;\n      div.appendChild(label);\n      const progress = document.createElement('progress');\n      progress.max = size;\n      div.appendChild(progress);\n      document.body.appendChild(div);\n\n      const buffers = [];\n      let downloaded = 0;\n\n      const channel = await google.colab.kernel.comms.open(id);\n      // Send a message to notify the kernel that we're ready.\n      channel.send({})\n\n      for await (const message of channel.messages) {\n        // Send a message to notify the kernel that we're ready.\n        channel.send({})\n        if (message.buffers) {\n          for (const buffer of message.buffers) {\n            buffers.push(buffer);\n            downloaded += buffer.byteLength;\n            progress.value = downloaded;\n          }\n        }\n      }\n      const blob = new Blob(buffers, {type: 'application/binary'});\n      const a = document.createElement('a');\n      a.href = window.URL.createObjectURL(blob);\n      a.download = filename;\n      div.appendChild(a);\n      a.click();\n      div.remove();\n    }\n  ",
            "text/plain": [
              "<IPython.core.display.Javascript object>"
            ]
          },
          "metadata": {},
          "output_type": "display_data"
        },
        {
          "data": {
            "application/javascript": "download(\"download_45157848-8e97-4c0a-97e9-5e839460aac6\", \"twsearch-result.csv\", 6648)",
            "text/plain": [
              "<IPython.core.display.Javascript object>"
            ]
          },
          "metadata": {},
          "output_type": "display_data"
        },
        {
          "name": "stdout",
          "output_type": "stream",
          "text": [
            "the csv has been downloaded to your local computer. The program has been completed successfully.\n"
          ]
        }
      ],
      "source": [
        "# download the csv to your local computer\n",
        "from google.colab import files\n",
        "files.download(output_file)\n",
        "print(\"the csv has been downloaded to your local computer. The program has been completed successfully.\")"
      ]
    }
  ],
  "metadata": {
    "colab": {
      "provenance": []
    },
    "kernelspec": {
      "display_name": "Python 3",
      "language": "python",
      "name": "python3"
    },
    "language_info": {
      "codemirror_mode": {
        "name": "ipython",
        "version": 3
      },
      "file_extension": ".py",
      "mimetype": "text/x-python",
      "name": "python",
      "nbconvert_exporter": "python",
      "pygments_lexer": "ipython3",
      "version": "3.9.6 (default, Oct 18 2022, 12:41:40) \n[Clang 14.0.0 (clang-1400.0.29.202)]"
    },
    "vscode": {
      "interpreter": {
        "hash": "31f2aee4e71d21fbe5cf8b01ff0e069b9275f58929596ceb00d14d90e3e16cd6"
      }
    }
  },
  "nbformat": 4,
  "nbformat_minor": 5
}
